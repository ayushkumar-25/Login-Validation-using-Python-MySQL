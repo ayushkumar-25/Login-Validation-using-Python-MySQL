{
 "cells": [
  {
   "cell_type": "code",
   "execution_count": 1,
   "id": "foreign-router",
   "metadata": {},
   "outputs": [],
   "source": [
    "import mysql.connector"
   ]
  },
  {
   "cell_type": "markdown",
   "id": "located-press",
   "metadata": {},
   "source": [
    "### Create Table and Insert Record"
   ]
  },
  {
   "cell_type": "code",
   "execution_count": 2,
   "id": "embedded-invitation",
   "metadata": {},
   "outputs": [],
   "source": [
    "mydb = mysql.connector.connect(\n",
    "    host='localhost',\n",
    "    user='root',\n",
    "    password='root')"
   ]
  },
  {
   "cell_type": "code",
   "execution_count": 3,
   "id": "olympic-captain",
   "metadata": {},
   "outputs": [],
   "source": [
    "cur = mydb.cursor()"
   ]
  },
  {
   "cell_type": "code",
   "execution_count": 4,
   "id": "weighted-japanese",
   "metadata": {},
   "outputs": [],
   "source": [
    "cur.execute('CREATE DATABASE Python')"
   ]
  },
  {
   "cell_type": "code",
   "execution_count": 5,
   "id": "thermal-invalid",
   "metadata": {},
   "outputs": [],
   "source": [
    "mydb = mysql.connector.connect(\n",
    "    host='localhost',\n",
    "    user='root',\n",
    "    password='root',\n",
    "    database='Python')"
   ]
  },
  {
   "cell_type": "code",
   "execution_count": 6,
   "id": "dangerous-cedar",
   "metadata": {},
   "outputs": [],
   "source": [
    "cur = mydb.cursor()"
   ]
  },
  {
   "cell_type": "code",
   "execution_count": 7,
   "id": "local-sharing",
   "metadata": {},
   "outputs": [],
   "source": [
    "cur.execute('CREATE TABLE Auth (ID INT NOT NULL AUTO_INCREMENT, Email VARCHAR(255), Password VARCHAR(255), PRIMARY KEY (ID))')"
   ]
  },
  {
   "cell_type": "markdown",
   "id": "early-matter",
   "metadata": {},
   "source": [
    "### Sign Up"
   ]
  },
  {
   "cell_type": "code",
   "execution_count": 13,
   "id": "after-saying",
   "metadata": {},
   "outputs": [
    {
     "name": "stdout",
     "output_type": "stream",
     "text": [
      "Enter Email: ak@gmail.com\n",
      "Enter Password: 9595\n"
     ]
    }
   ],
   "source": [
    "email = input(\"Enter Email: \")\n",
    "password = input(\"Enter Password: \")\n",
    "sql = \"INSERT INTO Auth (Email, Password) VALUES (%s, %s)\"\n",
    "cur.execute(sql, [(email), (password)])\n",
    "mydb.commit()"
   ]
  },
  {
   "cell_type": "code",
   "execution_count": 9,
   "id": "dynamic-order",
   "metadata": {},
   "outputs": [
    {
     "name": "stdout",
     "output_type": "stream",
     "text": [
      "1 record inserted.\n"
     ]
    }
   ],
   "source": [
    "print(cur.rowcount, \"record inserted.\")"
   ]
  },
  {
   "cell_type": "markdown",
   "id": "juvenile-glasgow",
   "metadata": {},
   "source": [
    "### Fetching data from DB"
   ]
  },
  {
   "cell_type": "code",
   "execution_count": 10,
   "id": "departmental-japanese",
   "metadata": {},
   "outputs": [
    {
     "name": "stdout",
     "output_type": "stream",
     "text": [
      "[(1, 'ayush2608@gmail.com', '123456')]\n"
     ]
    }
   ],
   "source": [
    "cur.execute('SELECT * FROM Auth')\n",
    "result = cur.fetchall()\n",
    "print(result)"
   ]
  },
  {
   "cell_type": "code",
   "execution_count": 11,
   "id": "liked-convention",
   "metadata": {},
   "outputs": [
    {
     "name": "stdout",
     "output_type": "stream",
     "text": [
      "(1, 'ayush2608@gmail.com', '123456')\n"
     ]
    }
   ],
   "source": [
    "for i in result:\n",
    "    print(i)"
   ]
  },
  {
   "cell_type": "markdown",
   "id": "religious-logistics",
   "metadata": {},
   "source": [
    "### Login Validation"
   ]
  },
  {
   "cell_type": "code",
   "execution_count": 12,
   "id": "thorough-perspective",
   "metadata": {},
   "outputs": [
    {
     "name": "stdout",
     "output_type": "stream",
     "text": [
      "Enter Email: ayush2608@gmail.com\n",
      "Enter Password: 123456\n",
      "Successfully Logged In\n"
     ]
    }
   ],
   "source": [
    "email = input(\"Enter Email: \")\n",
    "password = input(\"Enter Password: \")\n",
    "sql = 'SELECT * FROM Auth WHERE Email=%s AND Password=%s'\n",
    "cur.execute(sql, [(email), (password)])\n",
    "res = cur.fetchall()\n",
    "if len(res) != 0:\n",
    "    print('Successfully Logged In')\n",
    "else:\n",
    "    print('Incorrect Credentials')"
   ]
  }
 ],
 "metadata": {
  "kernelspec": {
   "display_name": "Python 3",
   "language": "python",
   "name": "python3"
  },
  "language_info": {
   "codemirror_mode": {
    "name": "ipython",
    "version": 3
   },
   "file_extension": ".py",
   "mimetype": "text/x-python",
   "name": "python",
   "nbconvert_exporter": "python",
   "pygments_lexer": "ipython3",
   "version": "3.8.7"
  }
 },
 "nbformat": 4,
 "nbformat_minor": 5
}
